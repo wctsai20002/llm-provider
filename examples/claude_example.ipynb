{
 "cells": [
  {
   "cell_type": "code",
   "execution_count": 1,
   "metadata": {},
   "outputs": [],
   "source": [
    "import os\n",
    "import sys\n",
    "\n",
    "project_root = os.path.abspath(os.path.join(os.getcwd(), '..'))\n",
    "if project_root not in sys.path:\n",
    "    sys.path.append(project_root)\n",
    "\n",
    "from llm_provider import CONFIG, update_config, get_provider_config\n",
    "from llm_provider.browsers import ChromeBrowser\n",
    "from llm_provider.providers import ChatGPTProvider, ClaudeProvider"
   ]
  },
  {
   "cell_type": "code",
   "execution_count": null,
   "metadata": {},
   "outputs": [],
   "source": [
    "# Retrieve configuration for Claude\n",
    "claude_config = get_provider_config('claude')\n",
    "\n",
    "# Initialize a Chrome browser instance\n",
    "chrome_browser = ChromeBrowser()\n",
    "\n",
    "# Create a Claude provider using the browser and config\n",
    "claude = ClaudeProvider(browser=chrome_browser, config=claude_config)\n",
    "\n",
    "# Select model\n",
    "claude.select_model('sonnet')\n",
    "\n",
    "# Send a message\n",
    "success = claude.send_message('Hello Claude! How are you today?')\n",
    "print(f'Message sent successfully? {success}')\n",
    "\n",
    "wait_status = claude.wait_for_response_completion()\n",
    "response_dict = claude.get_response()\n",
    "print('Claude Response (Text):', response_dict['chat']['text'])\n",
    "print('Claude Response (Markdown):', response_dict['chat']['markdown'])"
   ]
  },
  {
   "cell_type": "code",
   "execution_count": 5,
   "metadata": {},
   "outputs": [],
   "source": [
    "claude.browser.close()"
   ]
  }
 ],
 "metadata": {
  "kernelspec": {
   "display_name": "Python 3",
   "language": "python",
   "name": "python3"
  },
  "language_info": {
   "codemirror_mode": {
    "name": "ipython",
    "version": 3
   },
   "file_extension": ".py",
   "mimetype": "text/x-python",
   "name": "python",
   "nbconvert_exporter": "python",
   "pygments_lexer": "ipython3",
   "version": "3.11.9"
  }
 },
 "nbformat": 4,
 "nbformat_minor": 2
}
