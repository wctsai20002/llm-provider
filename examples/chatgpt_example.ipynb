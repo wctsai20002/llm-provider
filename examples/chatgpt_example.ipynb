{
 "cells": [
  {
   "cell_type": "code",
   "execution_count": 2,
   "metadata": {},
   "outputs": [],
   "source": [
    "import os\n",
    "import sys\n",
    "\n",
    "project_root = os.path.abspath(os.path.join(os.getcwd(), '..'))\n",
    "if project_root not in sys.path:\n",
    "    sys.path.append(project_root)\n",
    "\n",
    "from llm_provider import CONFIG, update_config, get_provider_config\n",
    "from llm_provider.browsers import ChromeBrowser\n",
    "from llm_provider.providers import ChatGPTProvider, ClaudeProvider"
   ]
  },
  {
   "cell_type": "code",
   "execution_count": null,
   "metadata": {},
   "outputs": [],
   "source": [
    "# Retrieve configuration for ChatGPT\n",
    "gpt_config = get_provider_config('chatgpt')\n",
    "\n",
    "# Initialize a Chrome browser instance\n",
    "chrome_browser = ChromeBrowser()\n",
    "\n",
    "# Create a ChatGPT provider using the browser and config\n",
    "chatgpt = ChatGPTProvider(browser=chrome_browser, config=gpt_config)\n",
    "\n",
    "# Select model\n",
    "chatgpt.select_model('gpt-4o')\n",
    "\n",
    "# Send a message\n",
    "success = chatgpt.send_message_safely('Hello GPT! How are you today?')\n",
    "print(f'Message sent successfully? {success}')\n",
    "\n",
    "wait_status = chatgpt.wait_for_response_completion()\n",
    "response_dict = chatgpt.get_response()\n",
    "print('GPT Response (Text):', response_dict['chat']['text'])\n",
    "print('GPT Response (Markdown):', response_dict['chat']['markdown'])"
   ]
  },
  {
   "cell_type": "code",
   "execution_count": 4,
   "metadata": {},
   "outputs": [],
   "source": [
    "chatgpt.browser.close()"
   ]
  }
 ],
 "metadata": {
  "kernelspec": {
   "display_name": "Python 3",
   "language": "python",
   "name": "python3"
  },
  "language_info": {
   "codemirror_mode": {
    "name": "ipython",
    "version": 3
   },
   "file_extension": ".py",
   "mimetype": "text/x-python",
   "name": "python",
   "nbconvert_exporter": "python",
   "pygments_lexer": "ipython3",
   "version": "3.11.9"
  }
 },
 "nbformat": 4,
 "nbformat_minor": 2
}
