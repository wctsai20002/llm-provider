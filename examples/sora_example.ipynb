{
 "cells": [
  {
   "cell_type": "code",
   "execution_count": 1,
   "metadata": {},
   "outputs": [],
   "source": [
    "import os\n",
    "import sys\n",
    "\n",
    "project_root = os.path.abspath(os.path.join(os.getcwd(), '..'))\n",
    "if project_root not in sys.path:\n",
    "    sys.path.append(project_root)\n",
    "\n",
    "from llm_provider import CONFIG, update_config, get_provider_config\n",
    "from llm_provider.browsers import ChromeBrowser\n",
    "from llm_provider.directors import SoraDirector"
   ]
  },
  {
   "cell_type": "code",
   "execution_count": null,
   "metadata": {},
   "outputs": [],
   "source": [
    "# Retrieve configuration for Sora\n",
    "sora_config = get_provider_config('sora')\n",
    "\n",
    "# Initialize a Chrome browser instance\n",
    "chrome_browser = ChromeBrowser()\n",
    "\n",
    "# Create a Sora director using the browser and config\n",
    "sora = SoraDirector(browser=chrome_browser, config=sora_config)\n",
    "\n",
    "# Update video config\n",
    "sora.update_aspect_ratio('1:1')\n",
    "sora.update_resolution('480p')\n",
    "sora.update_duration(5)\n",
    "sora.update_variation(2)\n",
    "\n",
    "# Create a video with a short text prompt\n",
    "video_created = sora.create_video('A quick introduction video about the importance of reading.')\n",
    "print(f'Video created? {video_created}')\n",
    "\n",
    "\n",
    "# Wait for the video to be processed. Might need a longer wait in real usage.\n",
    "sora.browser.random_time_delay(30, 30)\n",
    "\n",
    "# Download videos if available\n",
    "videos_downloaded = sora.download_videos(max_wait_time=600)\n",
    "print(f'Videos downloaded successfully? {videos_downloaded}')"
   ]
  },
  {
   "cell_type": "code",
   "execution_count": 4,
   "metadata": {},
   "outputs": [],
   "source": [
    "chrome_browser.close()"
   ]
  }
 ],
 "metadata": {
  "kernelspec": {
   "display_name": "Python 3",
   "language": "python",
   "name": "python3"
  },
  "language_info": {
   "codemirror_mode": {
    "name": "ipython",
    "version": 3
   },
   "file_extension": ".py",
   "mimetype": "text/x-python",
   "name": "python",
   "nbconvert_exporter": "python",
   "pygments_lexer": "ipython3",
   "version": "3.11.9"
  }
 },
 "nbformat": 4,
 "nbformat_minor": 2
}
